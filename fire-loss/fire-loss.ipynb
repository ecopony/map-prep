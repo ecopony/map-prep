{
 "cells": [
  {
   "cell_type": "code",
   "execution_count": null,
   "metadata": {},
   "outputs": [],
   "source": [
    "# %pip install geopandas python-dotenv rasterio osgeo"
   ]
  },
  {
   "cell_type": "code",
   "execution_count": null,
   "metadata": {},
   "outputs": [],
   "source": [
    "import os\n",
    "import sys\n",
    "sys.path.append('../utils/')\n",
    "import natural_earth_utils as ne\n",
    "import hillshade_utils as hs\n",
    "import dotenv\n",
    "\n",
    "dotenv.load_dotenv()\n",
    "\n",
    "geopackage_name = 'output/fire-loss.gpkg'"
   ]
  },
  {
   "cell_type": "code",
   "execution_count": null,
   "metadata": {},
   "outputs": [],
   "source": [
    "hs.extract_zip_files(os.path.join(os.environ['NATURAL_EARTH_DIR'], 'Raster/SRTM_30/'))"
   ]
  },
  {
   "cell_type": "code",
   "execution_count": null,
   "metadata": {},
   "outputs": [],
   "source": [
    "hs.generate_hillshade_raster(os.path.join(os.environ['NATURAL_EARTH_DIR'], 'Raster/SRTM_30/output'))"
   ]
  },
  {
   "cell_type": "code",
   "execution_count": null,
   "metadata": {},
   "outputs": [],
   "source": [
    "ne.us_states_50m_contiguous().to_file(geopackage_name, layer='us_states', driver='GPKG')\n",
    "ne.na_countries_50m().to_file(geopackage_name, layer='us_country', driver='GPKG')\n",
    "ne.us_state_50m(\"Oregon\").to_file(geopackage_name, layer='oregon', driver='GPKG')\n",
    "ne.all_the_other_states_50m(\"Oregon\").to_file(geopackage_name, layer='other_states', driver='GPKG')\n",
    "populated_places = ne.us_populated_places_10m(min_population=70000)\n",
    "populated_places[populated_places['ADM1NAME'] == 'Oregon'].to_file(geopackage_name, layer='us_populated_places', driver='GPKG')"
   ]
  }
 ],
 "metadata": {
  "kernelspec": {
   "display_name": ".venv",
   "language": "python",
   "name": "python3"
  },
  "language_info": {
   "codemirror_mode": {
    "name": "ipython",
    "version": 3
   },
   "file_extension": ".py",
   "mimetype": "text/x-python",
   "name": "python",
   "nbconvert_exporter": "python",
   "pygments_lexer": "ipython3",
   "version": "3.12.1"
  }
 },
 "nbformat": 4,
 "nbformat_minor": 2
}
