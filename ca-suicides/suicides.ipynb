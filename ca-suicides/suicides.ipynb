{
 "cells": [
  {
   "cell_type": "code",
   "execution_count": null,
   "metadata": {},
   "outputs": [],
   "source": [
    "# %pip install pandas\n",
    "# %pip install geopandas"
   ]
  },
  {
   "cell_type": "markdown",
   "metadata": {},
   "source": [
    "CSV data prepared from California Bureau of Public Health, Data on Suicide and Self Harm, 2018-2020. https://www.cdph.ca.gov/Programs/CCDPHP/DCDIC/SACB/Pages/Data-on-Suicide-and-Self-Harm.aspx (Suicide rates by county table)"
   ]
  },
  {
   "cell_type": "code",
   "execution_count": 11,
   "metadata": {},
   "outputs": [],
   "source": [
    "import pandas as pd\n",
    "import geopandas as gpd\n",
    "\n",
    "geopackage_name = 'output/california_suicides.gpkg'"
   ]
  },
  {
   "cell_type": "code",
   "execution_count": null,
   "metadata": {},
   "outputs": [],
   "source": [
    "gdf = gpd.read_file('/Users/ecopo/GeospatialResources/NaturalEarth/Counties/ne_10m_admin_2_counties/ne_10m_admin_2_counties.shp')"
   ]
  },
  {
   "cell_type": "code",
   "execution_count": null,
   "metadata": {},
   "outputs": [],
   "source": [
    "def dissolve_counties(gdf, counties):\n",
    "    dissolved = gdf[gdf['NAME'].isin(counties)].dissolve()\n",
    "    dissolved['NAME'] = ', '.join(counties)\n",
    "    return dissolved\n",
    "\n",
    "california_counties = gdf[gdf['REGION'] == 'CA'][['NAME', 'geometry']]\n",
    "\n",
    "northern_merge = ['Del Norte', 'Lassen', 'Modoc', 'Plumas', 'Sierra', 'Siskiyou', 'Trinity']\n",
    "north_central_merge = ['Colusa', 'Glenn', 'Tehama']\n",
    "southern_merge = ['Alpine', 'Amador', 'Calaveras', 'Inyo', 'Mariposa', 'Mono', 'Tuolumne']\n",
    "\n",
    "northern_dissolved = dissolve_counties(california_counties, northern_merge)\n",
    "north_central_dissolved = dissolve_counties(california_counties, north_central_merge)\n",
    "southern_dissolved = dissolve_counties(california_counties, southern_merge)\n",
    "\n",
    "unmerged_counties = california_counties[~california_counties['NAME']\n",
    "                                        .isin(northern_merge + north_central_merge + southern_merge)]\n",
    "merged_counties = pd.concat([northern_dissolved, north_central_dissolved, southern_dissolved])\n",
    "original_counties_that_were_merged = california_counties[california_counties['NAME'].isin(northern_merge + north_central_merge + southern_merge)]\n",
    "\n",
    "all_counties_with_merged = pd.concat([unmerged_counties, merged_counties])\n",
    "\n",
    "california_counties.to_file(geopackage_name, layer='california_counties', driver='GPKG')\n",
    "merged_counties.to_file(geopackage_name, layer='merged_counties', driver='GPKG')\n",
    "all_counties_with_merged.to_file(geopackage_name, layer='all_counties_with_merged', driver='GPKG')\n",
    "original_counties_that_were_merged.to_file(geopackage_name, layer='original_counties_that_were_merged', driver='GPKG')\n",
    "unmerged_counties.to_file(geopackage_name, layer='unmerged_counties', driver='GPKG')"
   ]
  },
  {
   "cell_type": "code",
   "execution_count": null,
   "metadata": {},
   "outputs": [],
   "source": []
  }
 ],
 "metadata": {
  "kernelspec": {
   "display_name": ".venv",
   "language": "python",
   "name": "python3"
  },
  "language_info": {
   "codemirror_mode": {
    "name": "ipython",
    "version": 3
   },
   "file_extension": ".py",
   "mimetype": "text/x-python",
   "name": "python",
   "nbconvert_exporter": "python",
   "pygments_lexer": "ipython3",
   "version": "3.10.11"
  }
 },
 "nbformat": 4,
 "nbformat_minor": 2
}
