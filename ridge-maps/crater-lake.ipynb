{
 "cells": [
  {
   "cell_type": "code",
   "execution_count": null,
   "metadata": {},
   "outputs": [],
   "source": [
    "# %pip install ridge_map"
   ]
  },
  {
   "cell_type": "markdown",
   "metadata": {},
   "source": [
    "Made using https://github.com/ColCarroll/ridge_map, which uses NASA's Shuttle Radar Topography Mission (SRTM), high resolution topographic data, https://www2.jpl.nasa.gov/srtm/."
   ]
  },
  {
   "cell_type": "code",
   "execution_count": null,
   "metadata": {},
   "outputs": [],
   "source": [
    "rm = RidgeMap((  -122.199576,42.891522,-121.992865,42.993366 ))\n",
    "\n",
    "values = rm.get_elevation_data(num_lines=180)\n",
    "rm.plot_map(values=rm.preprocess(values=values, water_ntile=12, vertical_ratio=200),\n",
    "            label='crater\\n   lake',\n",
    "            label_x=0.75,\n",
    "            label_y=0.82,\n",
    "            linewidth=3,\n",
    "            line_color='green')\n",
    "\n",
    "plt.savefig('output/crater-lake-green.png', bbox_inches='tight', pad_inches=0, dpi=300)"
   ]
  },
  {
   "cell_type": "code",
   "execution_count": null,
   "metadata": {},
   "outputs": [],
   "source": []
  }
 ],
 "metadata": {
  "kernelspec": {
   "display_name": ".venv",
   "language": "python",
   "name": "python3"
  },
  "language_info": {
   "codemirror_mode": {
    "name": "ipython",
    "version": 3
   },
   "file_extension": ".py",
   "mimetype": "text/x-python",
   "name": "python",
   "nbconvert_exporter": "python",
   "pygments_lexer": "ipython3",
   "version": "3.10.11"
  }
 },
 "nbformat": 4,
 "nbformat_minor": 2
}
