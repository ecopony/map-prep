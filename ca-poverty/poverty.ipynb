{
 "cells": [
  {
   "cell_type": "code",
   "execution_count": null,
   "metadata": {},
   "outputs": [],
   "source": [
    "# %pip install pandas\n",
    "# %pip install scipy"
   ]
  },
  {
   "cell_type": "markdown",
   "metadata": {},
   "source": [
    "Data was prepared from U.S. Census Bureau, 2022, American Community Survey, POVERTY STATUS IN THE PAST 12 MONTHS\n"
   ]
  },
  {
   "cell_type": "code",
   "execution_count": null,
   "metadata": {},
   "outputs": [],
   "source": [
    "import pandas as pd\n",
    "\n",
    "df = pd.read_csv('poverty.csv')\n",
    "df['Poverty Rate'] = (df['Number under poverty']/df['Total Population'])*100\n",
    "\n",
    "df.head()"
   ]
  },
  {
   "cell_type": "code",
   "execution_count": null,
   "metadata": {},
   "outputs": [],
   "source": [
    "far_north_counties = [\n",
    "    \"Del Norte County\", \"Siskiyou County\", \"Modoc County\",\n",
    "    \"Humboldt County\", \"Trinity County\", \"Shasta County\",\n",
    "    \"Lassen County\", \"Tehama County\", \"Plumas County\"\n",
    "]\n",
    "\n",
    "far_north_data = df[df['County Name'].isin(far_north_counties)]\n",
    "\n",
    "total_population_far_north = far_north_data['Total Population'].sum()\n",
    "weighted_poverty_sum = (far_north_data['Poverty Rate'] * far_north_data['Total Population']).sum()\n",
    "poverty_rate_far_north = weighted_poverty_sum / total_population_far_north\n",
    "\n",
    "print(\"Poverty rate for the far north counties: \", poverty_rate_far_north)"
   ]
  },
  {
   "cell_type": "code",
   "execution_count": null,
   "metadata": {},
   "outputs": [],
   "source": [
    "rest_of_state_data = df[~df['County Name'].isin(far_north_counties)]\n",
    "\n",
    "total_population_rest_of_state = rest_of_state_data['Total Population'].sum()\n",
    "weighted_poverty_sum_rest_of_state = (rest_of_state_data['Poverty Rate'] * rest_of_state_data['Total Population']).sum()\n",
    "poverty_rate_rest_of_state = weighted_poverty_sum_rest_of_state / total_population_rest_of_state\n",
    "\n",
    "print(\"Poverty rate for the rest of the state: \", poverty_rate_rest_of_state)"
   ]
  },
  {
   "cell_type": "code",
   "execution_count": null,
   "metadata": {},
   "outputs": [],
   "source": [
    "from scipy.stats import ttest_ind\n",
    "\n",
    "far_north_poverty_rates = far_north_data['Poverty Rate']\n",
    "rest_of_state_poverty_rates = rest_of_state_data['Poverty Rate']\n",
    "\n",
    "t_stat, p_value = ttest_ind(far_north_poverty_rates, rest_of_state_poverty_rates)\n",
    "\n",
    "print(\"p-value: \", p_value)\n",
    "print(\"t-stat: \", t_stat)"
   ]
  }
 ],
 "metadata": {
  "kernelspec": {
   "display_name": ".venv",
   "language": "python",
   "name": "python3"
  },
  "language_info": {
   "codemirror_mode": {
    "name": "ipython",
    "version": 3
   },
   "file_extension": ".py",
   "mimetype": "text/x-python",
   "name": "python",
   "nbconvert_exporter": "python",
   "pygments_lexer": "ipython3",
   "version": "3.10.11"
  }
 },
 "nbformat": 4,
 "nbformat_minor": 2
}
