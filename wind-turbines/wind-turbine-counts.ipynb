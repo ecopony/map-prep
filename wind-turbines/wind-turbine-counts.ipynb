{
 "cells": [
  {
   "cell_type": "code",
   "execution_count": null,
   "metadata": {},
   "outputs": [],
   "source": [
    "# %pip install python-dotenv\n",
    "# %pip install geopandas"
   ]
  },
  {
   "cell_type": "code",
   "execution_count": 1,
   "metadata": {},
   "outputs": [],
   "source": [
    "import os\n",
    "import dotenv\n",
    "import geopandas as gpd\n",
    "\n",
    "dotenv.load_dotenv()\n",
    "\n",
    "geopackage_name = 'output/wind-turbines.gpkg'"
   ]
  },
  {
   "cell_type": "code",
   "execution_count": 2,
   "metadata": {},
   "outputs": [],
   "source": [
    "wind_turbines = gpd.read_file(os.path.join(os.environ['DATA_DIR'], 'WindTurbines/uswtdbSHP/uswtdb_v6_1_20231128.shp'))\n",
    "wind_turbines = wind_turbines.to_crs('EPSG:4326')\n",
    "wind_turbines.to_file(geopackage_name, layer='wind_turbines', driver='GPKG')"
   ]
  },
  {
   "cell_type": "code",
   "execution_count": 3,
   "metadata": {},
   "outputs": [],
   "source": [
    "countries_50m = gpd.read_file(os.path.join(os.environ['NATURAL_EARTH_DIR'], 'Countries/ne_50m_admin_0_countries/ne_50m_admin_0_countries.shp'))\n",
    "states_provinces_50m = gpd.read_file(os.path.join(os.environ['NATURAL_EARTH_DIR'], 'StatesProvinces/ne_50m_admin_1_states_provinces/ne_50m_admin_1_states_provinces.shp'))\n",
    "lakes_50m = gpd.read_file(os.path.join(os.environ['NATURAL_EARTH_DIR'], 'Lakes/ne_50m_lakes/ne_50m_lakes.shp'))"
   ]
  },
  {
   "cell_type": "code",
   "execution_count": 4,
   "metadata": {},
   "outputs": [],
   "source": [
    "united_states_50m = countries_50m[countries_50m['ADMIN'] == 'United States of America']\n",
    "us_states_50m = states_provinces_50m[states_provinces_50m['iso_a2'] == 'US']\n",
    "us_states_50m = us_states_50m.join(gpd.sjoin(wind_turbines, us_states_50m).groupby(\"index_right\").size().rename(\"wind_turbine_join_count\"), how=\"left\")\n",
    "us_states_50m['wind_turbine_join_count'] = us_states_50m['wind_turbine_join_count'].fillna(0).astype(int)\n",
    "great_lakes_50m = lakes_50m[lakes_50m['name'].isin(['Lake Superior', 'Lake Michigan', 'Lake Huron', 'Lake Erie', 'Lake Ontario'])]\n",
    "states_with_no_wind_turbines_50m = us_states_50m[us_states_50m['wind_turbine_join_count'] == 0]\n",
    "states_with_at_least_one_wind_turbine_50m = us_states_50m[us_states_50m['wind_turbine_join_count'] > 0]"
   ]
  },
  {
   "cell_type": "code",
   "execution_count": 5,
   "metadata": {},
   "outputs": [],
   "source": [
    "united_states_50m.to_file(geopackage_name, layer='united_states_50m', driver='GPKG')\n",
    "us_states_50m.to_file(geopackage_name, layer='us_states_50m', driver='GPKG')\n",
    "great_lakes_50m.to_file(geopackage_name, layer='great_lakes_50m', driver='GPKG')\n",
    "states_with_no_wind_turbines_50m.to_file(geopackage_name, layer='states_with_no_wind_turbines_50m', driver='GPKG')\n",
    "states_with_at_least_one_wind_turbine_50m.to_file(geopackage_name, layer='states_with_at_least_one_wind_turbine_50m', driver='GPKG')"
   ]
  },
  {
   "cell_type": "code",
   "execution_count": null,
   "metadata": {},
   "outputs": [],
   "source": []
  }
 ],
 "metadata": {
  "kernelspec": {
   "display_name": ".venv",
   "language": "python",
   "name": "python3"
  },
  "language_info": {
   "codemirror_mode": {
    "name": "ipython",
    "version": 3
   },
   "file_extension": ".py",
   "mimetype": "text/x-python",
   "name": "python",
   "nbconvert_exporter": "python",
   "pygments_lexer": "ipython3",
   "version": "3.10.11"
  }
 },
 "nbformat": 4,
 "nbformat_minor": 2
}
