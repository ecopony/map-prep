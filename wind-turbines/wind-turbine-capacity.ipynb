{
 "cells": [
  {
   "cell_type": "code",
   "execution_count": null,
   "metadata": {},
   "outputs": [],
   "source": [
    "# %pip install python-dotenv\n",
    "# %pip install pandas\n",
    "# %pip install geopandas\n",
    "# %pip install seaborn"
   ]
  },
  {
   "cell_type": "code",
   "execution_count": null,
   "metadata": {},
   "outputs": [],
   "source": [
    "import os\n",
    "import dotenv\n",
    "import geopandas as gpd\n",
    "import pandas as pd\n",
    "\n",
    "dotenv.load_dotenv()\n",
    "\n",
    "geopackage_name = 'output/wind-turbines-capacity.gpkg'"
   ]
  },
  {
   "cell_type": "markdown",
   "metadata": {},
   "source": [
    "CSV data prepared from the U.S. Office of Energy Efficiency and Renewable Energy's WINDExchange, https://windexchange.energy.gov/maps-data/321"
   ]
  },
  {
   "cell_type": "code",
   "execution_count": null,
   "metadata": {},
   "outputs": [],
   "source": [
    "installed_capacity_df = pd.read_csv(os.path.join(os.environ['DATA_DIR'], 'WindTurbines/capacity/installed-capacity.csv'))\n",
    "installed_capacity_df['installed_capacity'] = installed_capacity_df['installed_capacity'].fillna(0)\n",
    "installed_capacity_df.head()"
   ]
  },
  {
   "cell_type": "code",
   "execution_count": null,
   "metadata": {},
   "outputs": [],
   "source": [
    "potential_capacity_df = pd.read_csv(os.path.join(os.environ['DATA_DIR'], 'WindTurbines/capacity/potential-capacity.csv'))\n",
    "potential_capacity_df.head()"
   ]
  },
  {
   "cell_type": "code",
   "execution_count": null,
   "metadata": {},
   "outputs": [],
   "source": [
    "countries_50m = gpd.read_file(os.path.join(os.environ['NATURAL_EARTH_DIR'], 'Countries/ne_50m_admin_0_countries/ne_50m_admin_0_countries.shp'))\n",
    "states_provinces_50m = gpd.read_file(os.path.join(os.environ['NATURAL_EARTH_DIR'], 'StatesProvinces/ne_50m_admin_1_states_provinces_lakes/ne_50m_admin_1_states_provinces_lakes.shp'))"
   ]
  },
  {
   "cell_type": "code",
   "execution_count": null,
   "metadata": {},
   "outputs": [],
   "source": [
    "na_countries = countries_50m[countries_50m['CONTINENT'] == 'North America']\n",
    "us_states_50m = states_provinces_50m[states_provinces_50m['iso_a2'] == 'US']"
   ]
  },
  {
   "cell_type": "code",
   "execution_count": null,
   "metadata": {},
   "outputs": [],
   "source": [
    "us_states_50m = us_states_50m[[\"iso_3166_2\", \"name\", \"geometry\"]]\n",
    "us_states_50m[\"state_abr\"] = us_states_50m[\"iso_3166_2\"].str.split(\"-\", expand=True)[1]\n",
    "us_states_50m = us_states_50m.merge(potential_capacity_df[['state_abr', 'potential_capacity']], on='state_abr', how='left')\n",
    "us_states_50m = us_states_50m.merge(installed_capacity_df[['name', 'installed_capacity']], on='name', how='left')\n",
    "us_states_50m['percent_installed'] = (us_states_50m['installed_capacity'] / us_states_50m['potential_capacity']) * 100\n",
    "us_states_50m = us_states_50m.dropna()\n",
    "\n",
    "us_states_50m.head()"
   ]
  },
  {
   "cell_type": "code",
   "execution_count": null,
   "metadata": {},
   "outputs": [],
   "source": [
    "na_countries.to_file(geopackage_name, layer='na_countries_50m', driver='GPKG')\n",
    "us_states_50m.to_file(geopackage_name, layer='us_states_50m', driver='GPKG')"
   ]
  },
  {
   "cell_type": "code",
   "execution_count": null,
   "metadata": {},
   "outputs": [],
   "source": [
    "import seaborn as sns\n",
    "import matplotlib.pyplot as plt\n",
    "import matplotlib.font_manager as fm\n",
    "\n",
    "font_path = '/Windows/Fonts/GILSANUB.TTF'\n",
    "font_prop = fm.FontProperties(fname=font_path)\n",
    "plt.rcParams['font.family'] = font_prop.get_name()\n",
    "\n",
    "sns.set(style=\"whitegrid\")\n",
    "\n",
    "plt.figure(figsize=(12, 6))\n",
    "\n",
    "ax = sns.barplot(data=us_states_50m[[\"name\", \"percent_installed\"]], x=\"name\", y=\"percent_installed\", palette=\"Set3\")\n",
    "\n",
    "ax.set_xticklabels(ax.get_xticklabels(), rotation=45, ha='right', fontsize=9)\n",
    "\n",
    "for patch in ax.patches:\n",
    "    patch.set_width(0.8)\n",
    "\n",
    "ax.set_xticklabels(ax.get_xticklabels(), rotation=45, ha='right')\n",
    "\n",
    "ax.set_xlabel(\"State\")\n",
    "ax.set_ylabel(\"Percent of potential capacity installed\")\n",
    "\n",
    "plt.show()"
   ]
  },
  {
   "cell_type": "code",
   "execution_count": null,
   "metadata": {},
   "outputs": [],
   "source": []
  }
 ],
 "metadata": {
  "kernelspec": {
   "display_name": ".venv",
   "language": "python",
   "name": "python3"
  },
  "language_info": {
   "codemirror_mode": {
    "name": "ipython",
    "version": 3
   },
   "file_extension": ".py",
   "mimetype": "text/x-python",
   "name": "python",
   "nbconvert_exporter": "python",
   "pygments_lexer": "ipython3",
   "version": "3.10.11"
  }
 },
 "nbformat": 4,
 "nbformat_minor": 2
}
