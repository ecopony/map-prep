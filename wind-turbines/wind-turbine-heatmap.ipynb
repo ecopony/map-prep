{
 "cells": [
  {
   "cell_type": "code",
   "execution_count": null,
   "metadata": {},
   "outputs": [],
   "source": [
    "# %pip install python-dotenv\n",
    "# %pip install geopandas"
   ]
  },
  {
   "cell_type": "code",
   "execution_count": 9,
   "metadata": {},
   "outputs": [],
   "source": [
    "import os\n",
    "import dotenv\n",
    "import geopandas as gpd\n",
    "\n",
    "dotenv.load_dotenv()\n",
    "\n",
    "geopackage_name = 'output/wind-turbines-heatmap.gpkg'\n",
    "\n",
    "wind_turbines = gpd.read_file(os.path.join(os.environ['DATA_DIR'], 'WindTurbines/uswtdbSHP/uswtdb_v6_1_20231128.shp'))\n",
    "wind_turbines = wind_turbines.to_crs('EPSG:4326')\n",
    "wind_turbines.to_file(geopackage_name, layer='wind_turbines', driver='GPKG')"
   ]
  },
  {
   "cell_type": "code",
   "execution_count": 11,
   "metadata": {},
   "outputs": [],
   "source": [
    "countries_50m = gpd.read_file(os.path.join(os.environ['NATURAL_EARTH_DIR'], 'Countries/ne_50m_admin_0_countries/ne_50m_admin_0_countries.shp'))\n",
    "states_provinces_50m = gpd.read_file(os.path.join(os.environ['NATURAL_EARTH_DIR'], 'StatesProvinces/ne_50m_admin_1_states_provinces_lakes/ne_50m_admin_1_states_provinces_lakes.shp'))"
   ]
  },
  {
   "cell_type": "code",
   "execution_count": 12,
   "metadata": {},
   "outputs": [],
   "source": [
    "na_countries = countries_50m[countries_50m['CONTINENT'] == 'North America']\n",
    "us_states_50m = states_provinces_50m[states_provinces_50m['iso_a2'] == 'US']"
   ]
  },
  {
   "cell_type": "code",
   "execution_count": 13,
   "metadata": {},
   "outputs": [],
   "source": [
    "na_countries.to_file(geopackage_name, layer='na_countries_50m', driver='GPKG')\n",
    "us_states_50m.to_file(geopackage_name, layer='us_states_50m', driver='GPKG')"
   ]
  },
  {
   "cell_type": "code",
   "execution_count": null,
   "metadata": {},
   "outputs": [],
   "source": []
  }
 ],
 "metadata": {
  "kernelspec": {
   "display_name": ".venv",
   "language": "python",
   "name": "python3"
  },
  "language_info": {
   "codemirror_mode": {
    "name": "ipython",
    "version": 3
   },
   "file_extension": ".py",
   "mimetype": "text/x-python",
   "name": "python",
   "nbconvert_exporter": "python",
   "pygments_lexer": "ipython3",
   "version": "3.10.11"
  }
 },
 "nbformat": 4,
 "nbformat_minor": 2
}
